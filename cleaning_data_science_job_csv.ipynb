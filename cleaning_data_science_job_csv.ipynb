{
 "cells": [
  {
   "cell_type": "markdown",
   "metadata": {},
   "source": [
    "### Imports\n"
   ]
  },
  {
   "cell_type": "code",
   "execution_count": 20,
   "metadata": {},
   "outputs": [],
   "source": [
    "import pandas as pd"
   ]
  },
  {
   "cell_type": "markdown",
   "metadata": {},
   "source": [
    "### Defining important methods"
   ]
  },
  {
   "cell_type": "code",
   "execution_count": 21,
   "metadata": {},
   "outputs": [],
   "source": [
    "def print_initial_df(df: pd.DataFrame) -> None:\n",
    "    print(\"Initial DataFrame:\\n\")\n",
    "    print(df.head())  # Print only the first 5 rows\n",
    "\n",
    "def delete_column_df(df: pd.DataFrame, column_name: str) -> pd.DataFrame:\n",
    "\n",
    "    if column_name in df.columns: \n",
    "        return df.drop(columns=[column_name])\n",
    "    else:\n",
    "        print(f\"⚠️ Warning: Column '{column_name}' not found in DataFrame. Skipping drop.\")\n",
    "        return df\n",
    "\n",
    "def count_amount_of_rows_in_df(df: pd.DataFrame) -> None:\n",
    "\n",
    "    num_rows = df.shape[0]\n",
    "    print(f\"The DataFrame has {num_rows} rows.\\n\")\n",
    "\n",
    "def count_nulls_in_columns(df: pd.DataFrame) -> None:\n",
    "    \"\"\"Prints the number of null values in each column.\"\"\"\n",
    "    null_counts = df.isnull().sum()\n",
    "    print(\"Number of null values in each column:\")\n",
    "    for column, null_count in null_counts.items():\n",
    "        print(f\"Column: '{column}' has {null_count} null values. \\n\")"
   ]
  },
  {
   "cell_type": "markdown",
   "metadata": {},
   "source": [
    "### Initial dataframe"
   ]
  },
  {
   "cell_type": "code",
   "execution_count": 22,
   "metadata": {},
   "outputs": [
    {
     "name": "stdout",
     "output_type": "stream",
     "text": [
      "Initial DataFrame:\n",
      "\n",
      "                                      job_title  job_category salary_currency  \\\n",
      "work_year                                                                       \n",
      "2022       Machine Learning Engineer  in office      Analysis             EUR   \n",
      "2020                     Statistician  (Remote)         ML/AI             JPY   \n",
      "2022                Machine Learning Engineer           ML/AI             INR   \n",
      "2022                    Data Analyst  in office         ML/AI             JPY   \n",
      "2020                             Statistician    Data Science             EUR   \n",
      "\n",
      "           salary  salary_in_usd employee_residence experience_level  \\\n",
      "work_year                                                              \n",
      "2022       186597         136086                 US               MI   \n",
      "2020       110630          67982                 JP               EX   \n",
      "2022        61280         153309                 UK               MI   \n",
      "2022       154130         135242                 DE               SE   \n",
      "2020       172312          35156                 UK               MI   \n",
      "\n",
      "          employment_type work_setting company_location company_size  \n",
      "work_year                                                             \n",
      "2022                   CT       Remote               DE            L  \n",
      "2020                   FL       Remote               IN            M  \n",
      "2022                   CT       Hybrid               CN            L  \n",
      "2022                   FT       Hybrid               MX            L  \n",
      "2020                   FT    In-person               UK            S  \n"
     ]
    }
   ],
   "source": [
    "salaries_df = pd.read_csv(\"data_science_job.csv\", index_col=0)\n",
    "print_initial_df(salaries_df)"
   ]
  },
  {
   "cell_type": "markdown",
   "metadata": {},
   "source": [
    "### Make copy of the initial dataset"
   ]
  },
  {
   "cell_type": "code",
   "execution_count": 23,
   "metadata": {},
   "outputs": [
    {
     "name": "stdout",
     "output_type": "stream",
     "text": [
      "Copy of the DataFrame:\n",
      "\n",
      "                                      job_title  job_category salary_currency  \\\n",
      "work_year                                                                       \n",
      "2022       Machine Learning Engineer  in office      Analysis             EUR   \n",
      "2020                     Statistician  (Remote)         ML/AI             JPY   \n",
      "2022                Machine Learning Engineer           ML/AI             INR   \n",
      "2022                    Data Analyst  in office         ML/AI             JPY   \n",
      "2020                             Statistician    Data Science             EUR   \n",
      "\n",
      "           salary  salary_in_usd employee_residence experience_level  \\\n",
      "work_year                                                              \n",
      "2022       186597         136086                 US               MI   \n",
      "2020       110630          67982                 JP               EX   \n",
      "2022        61280         153309                 UK               MI   \n",
      "2022       154130         135242                 DE               SE   \n",
      "2020       172312          35156                 UK               MI   \n",
      "\n",
      "          employment_type work_setting company_location company_size  \n",
      "work_year                                                             \n",
      "2022                   CT       Remote               DE            L  \n",
      "2020                   FL       Remote               IN            M  \n",
      "2022                   CT       Hybrid               CN            L  \n",
      "2022                   FT       Hybrid               MX            L  \n",
      "2020                   FT    In-person               UK            S  \n"
     ]
    }
   ],
   "source": [
    "salaries_df_copy = salaries_df.copy()\n",
    "print(\"Copy of the DataFrame:\\n\")\n",
    "print(salaries_df_copy.head()) "
   ]
  },
  {
   "cell_type": "markdown",
   "metadata": {},
   "source": [
    "### Print initial rows in the dataset"
   ]
  },
  {
   "cell_type": "code",
   "execution_count": 24,
   "metadata": {},
   "outputs": [
    {
     "name": "stdout",
     "output_type": "stream",
     "text": [
      "Initial amount of rows in the DataFrame:\n",
      "The DataFrame has 5000 rows.\n",
      "\n"
     ]
    }
   ],
   "source": [
    "print(\"Initial amount of rows in the DataFrame:\")\n",
    "count_amount_of_rows_in_df(salaries_df_copy)"
   ]
  },
  {
   "cell_type": "markdown",
   "metadata": {},
   "source": [
    "### Count null values for each column"
   ]
  },
  {
   "cell_type": "code",
   "execution_count": null,
   "metadata": {},
   "outputs": [],
   "source": [
    "count_nulls_in_columns(salaries_df_copy)"
   ]
  }
 ],
 "metadata": {
  "kernelspec": {
   "display_name": ".venv",
   "language": "python",
   "name": "python3"
  },
  "language_info": {
   "codemirror_mode": {
    "name": "ipython",
    "version": 3
   },
   "file_extension": ".py",
   "mimetype": "text/x-python",
   "name": "python",
   "nbconvert_exporter": "python",
   "pygments_lexer": "ipython3",
   "version": "3.10.4"
  }
 },
 "nbformat": 4,
 "nbformat_minor": 2
}
