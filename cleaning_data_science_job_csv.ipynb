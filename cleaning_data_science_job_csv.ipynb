{
 "cells": [
  {
   "cell_type": "markdown",
   "metadata": {},
   "source": [
    "### Imports\n"
   ]
  },
  {
   "cell_type": "code",
   "execution_count": 339,
   "metadata": {},
   "outputs": [],
   "source": [
    "import pandas as pd\n",
    "from scipy.stats import zscore, skew"
   ]
  },
  {
   "cell_type": "markdown",
   "metadata": {},
   "source": [
    "### Defining important methods"
   ]
  },
  {
   "cell_type": "code",
   "execution_count": 340,
   "metadata": {},
   "outputs": [],
   "source": [
    "def print_initial_df(df: pd.DataFrame) -> None:\n",
    "    print(\"Initial DataFrame:\\n\")\n",
    "    print(df.head())  # Print only the first 5 rows\n",
    "\n",
    "\n",
    "# Function to clean job titles\n",
    "def clean_job_title(title: str) -> str:\n",
    "    return title.split('(')[0].split('in office')[0].strip()\n",
    "\n",
    "def delete_column_df(df: pd.DataFrame, column_name: str) -> pd.DataFrame:\n",
    "\n",
    "    if column_name in df.columns: \n",
    "        return df.drop(columns=[column_name])\n",
    "    else:\n",
    "        print(f\"⚠️ Warning: Column '{column_name}' not found in DataFrame. Skipping drop.\")\n",
    "        return df\n",
    "\n",
    "def count_amount_of_rows_in_df(df: pd.DataFrame) -> None:\n",
    "\n",
    "    num_rows = df.shape[0]\n",
    "    print(f\"The DataFrame has {num_rows} rows.\\n\")\n",
    "\n",
    "def count_nulls_in_columns(df: pd.DataFrame) -> None:\n",
    "    \"\"\"Prints the number of null values in each column.\"\"\"\n",
    "    null_counts = df.isnull().sum()\n",
    "    print(\"Number of null values in each column:\")\n",
    "    for column, null_count in null_counts.items():\n",
    "        print(f\"Column: '{column}' has {null_count} null values. \\n\")"
   ]
  },
  {
   "cell_type": "markdown",
   "metadata": {},
   "source": [
    "### Initial dataframe"
   ]
  },
  {
   "cell_type": "code",
   "execution_count": 341,
   "metadata": {},
   "outputs": [
    {
     "name": "stdout",
     "output_type": "stream",
     "text": [
      "Initial DataFrame:\n",
      "\n",
      "                         title popular_rank certificate  startYear  endYear  \\\n",
      "imdb_id                                                                       \n",
      "tt4052886              Lucifer            1          15     2016.0      NaN   \n",
      "tt0993840     Army of the Dead            2          18     2021.0      NaN   \n",
      "tt7255502  The Kominsky Method            3          18     2018.0   2021.0   \n",
      "tt0108778              Friends            4         13+     1994.0   2004.0   \n",
      "tt9251798             Ragnarok            5          18     2020.0      NaN   \n",
      "\n",
      "           episodes runtime      type  orign_country   language  \\\n",
      "imdb_id                                                           \n",
      "tt4052886      93.0      42  tvSeries  United States    English   \n",
      "tt0993840       NaN     148     movie  United States    English   \n",
      "tt7255502      22.0      30  tvSeries  United States    English   \n",
      "tt0108778     235.0      22  tvSeries  United States    English   \n",
      "tt9251798      12.0      45  tvSeries         Norway  Norwegian   \n",
      "\n",
      "                                                        plot  \\\n",
      "imdb_id                                                        \n",
      "tt4052886  Lucifer Morningstar has decided he's had enoug...   \n",
      "tt0993840  Following a zombie outbreak in Las Vegas, a gr...   \n",
      "tt7255502  An aging actor, who long ago enjoyed a brush w...   \n",
      "tt0108778  Follows the personal and professional lives of...   \n",
      "tt9251798  A small Norwegian town experiencing warm winte...   \n",
      "\n",
      "                                                     summary  rating  \\\n",
      "imdb_id                                                                \n",
      "tt4052886  Lucifer Morningstar, bored from his sulking li...     8.1   \n",
      "tt0993840  With the abandoned, walled city of Las Vegas o...     5.8   \n",
      "tt7255502  Michael Douglas plays an actor who made it big...     8.2   \n",
      "tt0108778  Ross Geller, Rachel Green, Monica Geller, Joey...     8.9   \n",
      "tt9251798  In the small fictional town of Edda coming of ...     7.5   \n",
      "\n",
      "           numVotes                genres  isAdult  \\\n",
      "imdb_id                                              \n",
      "tt4052886  250884.0   Crime,Drama,Fantasy        0   \n",
      "tt0993840  110780.0   Action,Crime,Horror        0   \n",
      "tt7255502   28795.0          Comedy,Drama        0   \n",
      "tt0108778  861843.0        Comedy,Romance        0   \n",
      "tt9251798   26606.0  Action,Drama,Fantasy        0   \n",
      "\n",
      "                                                        cast  \\\n",
      "imdb_id                                                        \n",
      "tt4052886  ['Tom Ellis', 'Lauren German', 'Lesley-Ann Bra...   \n",
      "tt0993840  ['Dave Bautista', 'Ella Purnell', 'Ana de la R...   \n",
      "tt7255502  ['Michael Douglas', 'Sarah Baker', 'Graham Rog...   \n",
      "tt0108778  ['Jennifer Aniston', 'Courteney Cox', 'Lisa Ku...   \n",
      "tt9251798  ['David Stakston', 'Jonas Strand Gravli', 'Her...   \n",
      "\n",
      "                                                   image_url  \n",
      "imdb_id                                                       \n",
      "tt4052886  https://m.media-amazon.com/images/M/MV5BNzY1Yj...  \n",
      "tt0993840  https://m.media-amazon.com/images/M/MV5BNGY0Nz...  \n",
      "tt7255502  https://m.media-amazon.com/images/M/MV5BMzA0YT...  \n",
      "tt0108778  https://m.media-amazon.com/images/M/MV5BNDVkYj...  \n",
      "tt9251798  https://m.media-amazon.com/images/M/MV5BODM3NT...  \n"
     ]
    }
   ],
   "source": [
    "movies_df = pd.read_csv(\"netflix_list.csv\", index_col=0)\n",
    "print_initial_df(movies_df.head())"
   ]
  },
  {
   "cell_type": "markdown",
   "metadata": {},
   "source": [
    "### Make copy of the initial dataset"
   ]
  },
  {
   "cell_type": "code",
   "execution_count": 342,
   "metadata": {},
   "outputs": [
    {
     "name": "stdout",
     "output_type": "stream",
     "text": [
      "Copy of the DataFrame:\n",
      "\n",
      "                         title popular_rank certificate  startYear  endYear  \\\n",
      "imdb_id                                                                       \n",
      "tt4052886              Lucifer            1          15     2016.0      NaN   \n",
      "tt0993840     Army of the Dead            2          18     2021.0      NaN   \n",
      "tt7255502  The Kominsky Method            3          18     2018.0   2021.0   \n",
      "tt0108778              Friends            4         13+     1994.0   2004.0   \n",
      "tt9251798             Ragnarok            5          18     2020.0      NaN   \n",
      "\n",
      "           episodes runtime      type  orign_country   language  \\\n",
      "imdb_id                                                           \n",
      "tt4052886      93.0      42  tvSeries  United States    English   \n",
      "tt0993840       NaN     148     movie  United States    English   \n",
      "tt7255502      22.0      30  tvSeries  United States    English   \n",
      "tt0108778     235.0      22  tvSeries  United States    English   \n",
      "tt9251798      12.0      45  tvSeries         Norway  Norwegian   \n",
      "\n",
      "                                                        plot  \\\n",
      "imdb_id                                                        \n",
      "tt4052886  Lucifer Morningstar has decided he's had enoug...   \n",
      "tt0993840  Following a zombie outbreak in Las Vegas, a gr...   \n",
      "tt7255502  An aging actor, who long ago enjoyed a brush w...   \n",
      "tt0108778  Follows the personal and professional lives of...   \n",
      "tt9251798  A small Norwegian town experiencing warm winte...   \n",
      "\n",
      "                                                     summary  rating  \\\n",
      "imdb_id                                                                \n",
      "tt4052886  Lucifer Morningstar, bored from his sulking li...     8.1   \n",
      "tt0993840  With the abandoned, walled city of Las Vegas o...     5.8   \n",
      "tt7255502  Michael Douglas plays an actor who made it big...     8.2   \n",
      "tt0108778  Ross Geller, Rachel Green, Monica Geller, Joey...     8.9   \n",
      "tt9251798  In the small fictional town of Edda coming of ...     7.5   \n",
      "\n",
      "           numVotes                genres  isAdult  \\\n",
      "imdb_id                                              \n",
      "tt4052886  250884.0   Crime,Drama,Fantasy        0   \n",
      "tt0993840  110780.0   Action,Crime,Horror        0   \n",
      "tt7255502   28795.0          Comedy,Drama        0   \n",
      "tt0108778  861843.0        Comedy,Romance        0   \n",
      "tt9251798   26606.0  Action,Drama,Fantasy        0   \n",
      "\n",
      "                                                        cast  \\\n",
      "imdb_id                                                        \n",
      "tt4052886  ['Tom Ellis', 'Lauren German', 'Lesley-Ann Bra...   \n",
      "tt0993840  ['Dave Bautista', 'Ella Purnell', 'Ana de la R...   \n",
      "tt7255502  ['Michael Douglas', 'Sarah Baker', 'Graham Rog...   \n",
      "tt0108778  ['Jennifer Aniston', 'Courteney Cox', 'Lisa Ku...   \n",
      "tt9251798  ['David Stakston', 'Jonas Strand Gravli', 'Her...   \n",
      "\n",
      "                                                   image_url  \n",
      "imdb_id                                                       \n",
      "tt4052886  https://m.media-amazon.com/images/M/MV5BNzY1Yj...  \n",
      "tt0993840  https://m.media-amazon.com/images/M/MV5BNGY0Nz...  \n",
      "tt7255502  https://m.media-amazon.com/images/M/MV5BMzA0YT...  \n",
      "tt0108778  https://m.media-amazon.com/images/M/MV5BNDVkYj...  \n",
      "tt9251798  https://m.media-amazon.com/images/M/MV5BODM3NT...  \n"
     ]
    }
   ],
   "source": [
    "movies_df_copy = movies_df.copy()\n",
    "print(\"Copy of the DataFrame:\\n\")\n",
    "print(movies_df_copy.head()) "
   ]
  },
  {
   "cell_type": "markdown",
   "metadata": {},
   "source": [
    "### Check percentage of null values in numVotes column\n",
    "I want to cluster this dataset in series/movies with a high number of votes. Therefore I need to check the percentage of how many null values there are in this column"
   ]
  },
  {
   "cell_type": "code",
   "execution_count": 343,
   "metadata": {},
   "outputs": [
    {
     "name": "stdout",
     "output_type": "stream",
     "text": [
      "The percentage of null values that numVotes column has is 14.383561643835616%\n"
     ]
    }
   ],
   "source": [
    "number_of_null_values_in_num_Votes = movies_df_copy[\"numVotes\"].isnull().sum()\n",
    "total_rows = len(movies_df_copy)\n",
    "percentage_null_num_Votes = (number_of_null_values_in_num_Votes / total_rows) * 100\n",
    "\n",
    "print(\"The percentage of null values that numVotes column has is \" + str(percentage_null_num_Votes) + \"%\")"
   ]
  },
  {
   "cell_type": "markdown",
   "metadata": {},
   "source": [
    "### Check the type of numVotes column\n",
    "Since only 14% of the values of this column are null I will treat tream them. But first I want to check the type of this column to decide how I am going to replace these values"
   ]
  },
  {
   "cell_type": "code",
   "execution_count": 344,
   "metadata": {},
   "outputs": [
    {
     "name": "stdout",
     "output_type": "stream",
     "text": [
      "The type of the numVotes column is float64\n"
     ]
    }
   ],
   "source": [
    "print(\"The type of the numVotes column is \" + str(movies_df_copy[\"numVotes\"].dtype))"
   ]
  },
  {
   "cell_type": "markdown",
   "metadata": {},
   "source": [
    "### Convert column type to integer and delete float values"
   ]
  },
  {
   "cell_type": "code",
   "execution_count": 345,
   "metadata": {},
   "outputs": [
    {
     "name": "stdout",
     "output_type": "stream",
     "text": [
      "The amount of decimal values in 'numVotes' is: 0\n",
      "The amount of zero values in 'numVotes' before filtering is: 0\n"
     ]
    }
   ],
   "source": [
    "# Filter the 'numVotes' column to exclude NaN values and identify values with decimals\n",
    "num_votes_with_decimals = movies_df_copy[movies_df_copy[\"numVotes\"].notna() & (movies_df_copy[\"numVotes\"] % 1 != 0)]\n",
    "\n",
    "# Count the number of non-null decimal values in 'numVotes'\n",
    "decimal_count = num_votes_with_decimals.shape[0]\n",
    "\n",
    "# Count the number of zero values (excluding NaNs) in 'numVotes'. Important to check so later I do not confuse them with Nan values when I convert it to an integer column\n",
    "zero_count = len(movies_df_copy[movies_df_copy[\"numVotes\"].notna() & (movies_df_copy[\"numVotes\"] == 0)])\n",
    "\n",
    "print(\"The amount of decimal values in 'numVotes' is: \" + str(decimal_count))\n",
    "print(\"The amount of zero values in 'numVotes' before filtering is: \" + str(zero_count))"
   ]
  },
  {
   "cell_type": "markdown",
   "metadata": {},
   "source": [
    "### Change column type of numVotes to integer\n",
    "Since there are no decimal values in this column, I am going to change the type of the column to integer"
   ]
  },
  {
   "cell_type": "code",
   "execution_count": 346,
   "metadata": {},
   "outputs": [
    {
     "name": "stdout",
     "output_type": "stream",
     "text": [
      "imdb_id\n",
      "tt4052886    250884\n",
      "tt0993840    110780\n",
      "tt7255502     28795\n",
      "tt0108778    861843\n",
      "tt9251798     26606\n",
      "Name: numVotes, dtype: int64\n"
     ]
    }
   ],
   "source": [
    "# Replace NaN values with 0 and convert the column to integers\n",
    "movies_df_copy[\"numVotes\"] = movies_df_copy[\"numVotes\"].fillna(0).astype(int)\n",
    "\n",
    "print(movies_df_copy[\"numVotes\"].head())\n"
   ]
  },
  {
   "cell_type": "markdown",
   "metadata": {},
   "source": [
    "### Checking skewness in the numVotes column\n",
    "Before taking a decision on how I will replace the null values, I want to understand the skewness of the column"
   ]
  },
  {
   "cell_type": "code",
   "execution_count": 347,
   "metadata": {},
   "outputs": [
    {
     "name": "stdout",
     "output_type": "stream",
     "text": [
      "Skewness (Ignoring Nan): 10.037454384886306\n"
     ]
    }
   ],
   "source": [
    "# Filter out 0 values before calculating skewness since they are missing values and they do not bring any insight to the skewness\n",
    "non_zero_votes = movies_df_copy[movies_df_copy['numVotes'] > 0]['numVotes']\n",
    "\n",
    "# Calculate skewness only for non-zero values\n",
    "skewness_value = skew(non_zero_votes)\n",
    "print(\"Skewness (Ignoring Nan):\", skewness_value)"
   ]
  },
  {
   "cell_type": "markdown",
   "metadata": {},
   "source": [
    "### Understanding the skewness result in numVotes column\n",
    "The numVotes column is highly right-skewed (10.04), meaning most shows have very few votes, while a few popular ones have extremely high votes. Therefore, I decide to fill up the null values of this column using the Random Forest algorithm because it can learn patterns from other features in the dataset.\n",
    "\n",
    "To use the mean to fill up these null values would not be intelligent because it is sensitive to outliers(This column is highly skewed). The imputed values would probably be biased toward the central tendency, which does not reflect the actual patterns of the data. \n",
    "\n",
    "To use the median imputation would make more since it is less sensitive to outliers and it is a better choice when data is skewed. However, it still ignores the relationship between numVotes and other features of the dataset\n",
    "\n",
    "First thing i need to check is the correlation between every feature and the correlation of every feature with the numVotes column(the target)\n"
   ]
  },
  {
   "cell_type": "code",
   "execution_count": 348,
   "metadata": {},
   "outputs": [
    {
     "name": "stdout",
     "output_type": "stream",
     "text": [
      "Most correlated features with numVotes:\n",
      "imdb_id\n",
      "tt0120737     1697849\n",
      "tt0167260     1677017\n",
      "tt0903747     1523446\n",
      "tt0167261     1516370\n",
      "tt0407887     1216541\n",
      "               ...   \n",
      "tt3336458           0\n",
      "tt3083016           0\n",
      "tt11834150          0\n",
      "tt12304420          0\n",
      "tt9245008           0\n",
      "Name: numVotes, Length: 7008, dtype: int64\n"
     ]
    }
   ],
   "source": [
    "# Calculate correlation with the target 'numVotes'\n",
    "corr_with_target = movies_df_copy['numVotes'].sort_values(ascending=False)\n",
    "\n",
    "# Display top 5 most correlated features with 'numVotes'\n",
    "print(\"Most correlated features with numVotes:\")\n",
    "print(corr_with_target.head())"
   ]
  }
 ],
 "metadata": {
  "kernelspec": {
   "display_name": ".venv",
   "language": "python",
   "name": "python3"
  },
  "language_info": {
   "codemirror_mode": {
    "name": "ipython",
    "version": 3
   },
   "file_extension": ".py",
   "mimetype": "text/x-python",
   "name": "python",
   "nbconvert_exporter": "python",
   "pygments_lexer": "ipython3",
   "version": "3.10.4"
  }
 },
 "nbformat": 4,
 "nbformat_minor": 2
}
